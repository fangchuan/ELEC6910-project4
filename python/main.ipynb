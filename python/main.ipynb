{
 "cells": [
  {
   "cell_type": "code",
   "execution_count": 4,
   "metadata": {},
   "outputs": [],
   "source": [
    "import os\n",
    "import sys\n",
    "import argparse\n",
    "import logging\n",
    "\n",
    "import numpy as np\n",
    "\n",
    "from DataLoader import create_dataloader\n",
    "from Detectors import create_detector\n",
    "from Matchers import create_matcher\n",
    "\n",
    "import ipyvolume as ipv\n",
    "from visualizer.ipw_3d_helper import ipv_prepare, ipv_draw_pose_3d, ipv_draw_point_cloud, iPV3DVisualizer\n"
   ]
  },
  {
   "cell_type": "code",
   "execution_count": 5,
   "metadata": {},
   "outputs": [
    {
     "name": "stderr",
     "output_type": "stream",
     "text": [
      "INFO:root:Sequence image loader config: \n",
      "INFO:root:{'root_path': '../data/trex', 'format': 'JPG', 'img_downscale_factor': 8, 'pose_recenter': False, 'name': 'llff'}\n"
     ]
    },
    {
     "name": "stdout",
     "output_type": "stream",
     "text": [
      "img_path_lst: ['DJI_20200223_163548_810.png', 'DJI_20200223_163551_210.png', 'DJI_20200223_163551_990.png', 'DJI_20200223_163553_010.png', 'DJI_20200223_163553_790.png', 'DJI_20200223_163554_630.png', 'DJI_20200223_163555_770.png', 'DJI_20200223_163556_700.png', 'DJI_20200223_163557_660.png', 'DJI_20200223_163558_500.png', 'DJI_20200223_163559_325.png', 'DJI_20200223_163600_150.png', 'DJI_20200223_163600_960.png', 'DJI_20200223_163601_770.png', 'DJI_20200223_163602_580.png', 'DJI_20200223_163603_540.png', 'DJI_20200223_163604_605.png', 'DJI_20200223_163605_490.png', 'DJI_20200223_163606_270.png', 'DJI_20200223_163607_050.png', 'DJI_20200223_163607_906.png', 'DJI_20200223_163608_715.png', 'DJI_20200223_163609_435.png', 'DJI_20200223_163610_185.png', 'DJI_20200223_163611_160.png', 'DJI_20200223_163614_400.png', 'DJI_20200223_163615_330.png', 'DJI_20200223_163616_140.png', 'DJI_20200223_163616_980.png', 'DJI_20200223_163617_790.png', 'DJI_20200223_163618_570.png', 'DJI_20200223_163619_411.png', 'DJI_20200223_163620_700.png', 'DJI_20200223_163621_570.png', 'DJI_20200223_163622_290.png', 'DJI_20200223_163623_310.png', 'DJI_20200223_163624_060.png', 'DJI_20200223_163624_765.png', 'DJI_20200223_163625_486.png', 'DJI_20200223_163627_196.png', 'DJI_20200223_163639_916.png', 'DJI_20200223_163640_741.png', 'DJI_20200223_163641_521.png', 'DJI_20200223_163642_330.png', 'DJI_20200223_163643_411.png', 'DJI_20200223_163644_295.png', 'DJI_20200223_163645_060.png', 'DJI_20200223_163645_961.png', 'DJI_20200223_163646_755.png', 'DJI_20200223_163647_626.png', 'DJI_20200223_163648_601.png', 'DJI_20200223_163649_576.png', 'DJI_20200223_163651_301.png', 'DJI_20200223_163652_711.png', 'DJI_20200223_163654_571.png']\n",
      "poses_arr.shape: (55, 17)\n",
      "reshaped poses.shape: (3, 5, 55)\n",
      "bds.shape: (2, 55)\n",
      "original image shape: (3024, 4032, 3)\n",
      "new image shape: (378, 504, 3)\n"
     ]
    },
    {
     "name": "stderr",
     "output_type": "stream",
     "text": [
      "INFO:root:SuperPoint detector config: \n",
      "INFO:root:{'descriptor_dim': 256, 'nms_radius': 4, 'keypoint_threshold': 0.005, 'max_keypoints': -1, 'remove_borders': 4, 'path': PosixPath('/home/hkust/fangchuan/codes/project4/python/Detectors/superpoint/superpoint_v1.pth'), 'cuda': 1, 'name': 'SuperPointDetector'}\n",
      "INFO:root:creating SuperPoint detector...\n",
      "INFO:root:SuperGlue matcher config: \n",
      "INFO:root:{'descriptor_dim': 256, 'weights': 'indoor', 'keypoint_encoder': [32, 64, 128, 256], 'GNN_layers': ['self', 'cross', 'self', 'cross', 'self', 'cross', 'self', 'cross', 'self', 'cross', 'self', 'cross', 'self', 'cross', 'self', 'cross', 'self', 'cross'], 'sinkhorn_iterations': 100, 'match_threshold': 0.2, 'cuda': 1, 'name': 'SuperGlueMatcher'}\n",
      "INFO:root:creating SuperGlue matcher...\n"
     ]
    },
    {
     "name": "stdout",
     "output_type": "stream",
     "text": [
      "Loaded image data: image shape: (378, 504, 3, 55) fx: [378.         504.         416.23374465]\n",
      "Loaded ../data/trex 14.611281520672364 128.97241851887296\n",
      "Data:\n",
      "(55, 3, 5) (55, 378, 504, 3) (55, 2)\n",
      "HOLDOUT view is 20\n",
      "PinholeCameraModel: fx: 416.23, fy: 416.23, cx: 252.00, cy: 189.00, width: 504, height: 378\n",
      "Loaded SuperPoint model\n"
     ]
    },
    {
     "name": "stderr",
     "output_type": "stream",
     "text": [
      "INFO:root:Computing baseline pose and reconstructing points\n",
      "INFO:root:init_view_matches: 697\n",
      "INFO:root:fundamental matrix inliers: 258\n",
      "INFO:root:Computed essential matrix\n",
      "INFO:root:Choosing correct pose out of 4 solutions\n"
     ]
    },
    {
     "name": "stdout",
     "output_type": "stream",
     "text": [
      "Loaded SuperGlue model (\"indoor\" weights)\n"
     ]
    },
    {
     "name": "stderr",
     "output_type": "stream",
     "text": [
      "INFO:root:Mean reprojection error for 0 view is 2.771514\n",
      "INFO:root:Mean reprojection error for 1 view is 2.793250\n",
      "INFO:root:Mean reprojection error for 2 view is 1.178015\n",
      "INFO:root:Mean reprojection error for 3 view is 1.138933\n",
      "INFO:root:Mean reprojection error for 4 view is 1.288387\n",
      "INFO:root:Mean reprojection error for 5 view is 1.849150\n",
      "INFO:root:Mean reprojection error for 6 view is 0.606225\n",
      "INFO:root:Mean reprojection error for 7 view is 0.762643\n",
      "INFO:root:Mean reprojection error for 8 view is 1.970677\n",
      "INFO:root:Mean reprojection error for 9 view is 1.202191\n",
      "INFO:root:Mean reprojection error for 10 view is 0.630305\n",
      "INFO:root:Mean reprojection error for 11 view is 0.390746\n",
      "INFO:root:Mean reprojection error for 12 view is 0.635428\n",
      "INFO:root:Mean reprojection error for 13 view is 0.904894\n",
      "INFO:root:Mean reprojection error for 14 view is 0.729251\n",
      "/home/hkust/anaconda3/envs/hloc/lib/python3.8/site-packages/skimage/measure/fit.py:672: RuntimeWarning: divide by zero encountered in scalar divide\n",
      "  return np.ceil(np.log(nom) / np.log(denom))\n",
      "INFO:root:Mean reprojection error for 15 view is 0.584359\n",
      "INFO:root:Mean reprojection error for 16 view is 0.514409\n",
      "INFO:root:Mean reprojection error for 17 view is 1.600222\n",
      "INFO:root:Mean reprojection error for 18 view is 0.748422\n",
      "INFO:root:Mean reprojection error for 19 view is 1.856592\n",
      "INFO:root:Mean reprojection error for 20 view is 1.866452\n",
      "INFO:root:Mean reprojection error for 21 view is 1.902037\n",
      "INFO:root:Mean reprojection error for 22 view is 1.701532\n",
      "INFO:root:Mean reprojection error for 23 view is 0.833162\n",
      "INFO:root:Mean reprojection error for 24 view is 1.942996\n",
      "INFO:root:Mean reprojection error for 25 view is 2.608079\n",
      "INFO:root:Mean reprojection error for 26 view is 0.297035\n",
      "INFO:root:Mean reprojection error for 27 view is 1.054569\n",
      "INFO:root:Mean reprojection error for 28 view is 0.910649\n",
      "INFO:root:Mean reprojection error for 29 view is 0.790208\n",
      "INFO:root:Mean reprojection error for 30 view is 1.199635\n",
      "INFO:root:Mean reprojection error for 31 view is 0.747191\n",
      "INFO:root:Mean reprojection error for 32 view is 1.995261\n",
      "INFO:root:Mean reprojection error for 33 view is 1.552407\n",
      "INFO:root:Mean reprojection error for 34 view is 2.240541\n",
      "INFO:root:Mean reprojection error for 35 view is 3.544590\n",
      "INFO:root:Mean reprojection error for 36 view is 2.895264\n",
      "INFO:root:Mean reprojection error for 37 view is 2.398126\n",
      "INFO:root:Mean reprojection error for 38 view is 3.735064\n",
      "INFO:root:Mean reprojection error for 39 view is 3.824783\n",
      "INFO:root:Mean reprojection error for 40 view is 2.133149\n",
      "INFO:root:Mean reprojection error for 41 view is 2.371817\n",
      "INFO:root:Mean reprojection error for 42 view is 1.251540\n",
      "INFO:root:Mean reprojection error for 43 view is 8.644485\n",
      "INFO:root:Mean reprojection error for 44 view is 1.084436\n",
      "INFO:root:Mean reprojection error for 45 view is 2.700190\n",
      "INFO:root:Mean reprojection error for 46 view is 1.335270\n",
      "INFO:root:Mean reprojection error for 47 view is 1.358803\n",
      "INFO:root:Mean reprojection error for 48 view is 3.531025\n",
      "INFO:root:Mean reprojection error for 49 view is 1.656901\n",
      "INFO:root:Mean reprojection error for 50 view is 2.477752\n",
      "INFO:root:Mean reprojection error for 51 view is 7.664473\n",
      "INFO:root:Mean reprojection error for 52 view is 3.564404\n",
      "INFO:root:Mean reprojection error for 53 view is 5.581216\n",
      "INFO:root:Mean reprojection error for 54 view is 3.860812\n"
     ]
    },
    {
     "name": "stdout",
     "output_type": "stream",
     "text": [
      "[ 3.30863042  2.515125   -0.78885873]\n"
     ]
    },
    {
     "data": {
      "application/vnd.jupyter.widget-view+json": {
       "model_id": "f3cc9d29daf746439be65d2babb00a67",
       "version_major": 2,
       "version_minor": 0
      },
      "text/plain": [
       "Container(figure=Figure(box_center=[0.5, 0.5, 0.5], box_size=[1.0, 1.0, 1.0], camera=PerspectiveCamera(fov=45.…"
      ]
     },
     "metadata": {},
     "output_type": "display_data"
    }
   ],
   "source": [
    "from SFM import sfm\n",
    "\n",
    "args = argparse.Namespace()\n",
    "args.config = 'configs/llff_trex_superpoint_superglu.yaml'\n",
    "args.logging = 'INFO'\n",
    "logging.basicConfig(level=logging._nameToLevel[args.logging])\n",
    "\n",
    "# Load config file\n",
    "config = None\n",
    "if args.config is not None:\n",
    "    import yaml\n",
    "    with open(args.config, 'r') as f:\n",
    "        config = yaml.load(f, Loader=yaml.FullLoader)\n",
    "else:\n",
    "    logging.error(\"Config file is not specified.\")\n",
    "    sys.exit(-1)\n",
    "\n",
    "# Create data loaders\n",
    "dataloader = create_dataloader(config[\"dataset\"])\n",
    "# create detector\n",
    "detector = create_detector(config[\"detector\"])\n",
    "# create matcher\n",
    "matcher = create_matcher(config[\"matcher\"])\n",
    "\n",
    "pipeline = sfm.SFM(dataloader, detector, matcher, camera=dataloader.cam, config=config[\"sfm\"])\n",
    "\n",
    "# Run the pipeline\n",
    "pipeline.reconstruct()\n",
    "\n",
    "# visualize all views and point clouds\n",
    "ipv_prepare(ipv)\n",
    "Tcw_lst = []\n",
    "for i, view in enumerate(pipeline.reconstructed_views):\n",
    "    Tcw = np.eye(4)\n",
    "    Tcw[:3, :3] = view.R\n",
    "    Tcw[:3, 3] = view.t.T\n",
    "    Tcw_lst.append(Tcw)\n",
    "points_lst = pipeline.reconstructed_map_points\n",
    "\n",
    "ipv_visualizer = iPV3DVisualizer()\n",
    "ipv_visualizer.add_trajectory(Tcw_lst)\n",
    "ipv_visualizer.add_point_cloud(points_lst, pt_size=8.0)\n",
    "ipv_visualizer.show()\n",
    "\n"
   ]
  },
  {
   "cell_type": "code",
   "execution_count": 6,
   "metadata": {},
   "outputs": [
    {
     "name": "stderr",
     "output_type": "stream",
     "text": [
      "iteration= 0\t chi2= 339336.590165\t time= 0.0245627\t cumTime= 0.0245627\t edges= 17803\t schur= 1\t lambda= 497.336304\t levenbergIter= 1\n",
      "iteration= 1\t chi2= 282193.672127\t time= 0.0102055\t cumTime= 0.0347682\t edges= 17803\t schur= 1\t lambda= 165.778768\t levenbergIter= 1\n",
      "iteration= 2\t chi2= 253477.873637\t time= 0.0111415\t cumTime= 0.0459097\t edges= 17803\t schur= 1\t lambda= 55.259589\t levenbergIter= 1\n",
      "iteration= 3\t chi2= 237541.835764\t time= 0.0107121\t cumTime= 0.0566218\t edges= 17803\t schur= 1\t lambda= 18.419863\t levenbergIter= 1\n",
      "iteration= 4\t chi2= 225480.202881\t time= 0.0104176\t cumTime= 0.0670394\t edges= 17803\t schur= 1\t lambda= 6.139954\t levenbergIter= 1\n",
      "iteration= 5\t chi2= 212838.466692\t time= 0.0114856\t cumTime= 0.078525\t edges= 17803\t schur= 1\t lambda= 2.046651\t levenbergIter= 1\n",
      "iteration= 6\t chi2= 198380.830046\t time= 0.0110939\t cumTime= 0.0896189\t edges= 17803\t schur= 1\t lambda= 0.682217\t levenbergIter= 1\n",
      "iteration= 7\t chi2= 183184.877462\t time= 0.0111108\t cumTime= 0.10073\t edges= 17803\t schur= 1\t lambda= 0.227406\t levenbergIter= 1\n",
      "iteration= 8\t chi2= 168734.606198\t time= 0.0116486\t cumTime= 0.112378\t edges= 17803\t schur= 1\t lambda= 0.075802\t levenbergIter= 1\n",
      "iteration= 9\t chi2= 156997.603427\t time= 0.0109838\t cumTime= 0.123362\t edges= 17803\t schur= 1\t lambda= 0.025267\t levenbergIter= 1\n",
      "iteration= 10\t chi2= 148838.956329\t time= 0.0122967\t cumTime= 0.135659\t edges= 17803\t schur= 1\t lambda= 0.008422\t levenbergIter= 1\n",
      "iteration= 11\t chi2= 142640.711539\t time= 0.0114916\t cumTime= 0.14715\t edges= 17803\t schur= 1\t lambda= 0.002807\t levenbergIter= 1\n",
      "iteration= 12\t chi2= 141273.354258\t time= 0.0122282\t cumTime= 0.159379\t edges= 17803\t schur= 1\t lambda= 0.001872\t levenbergIter= 1\n",
      "iteration= 13\t chi2= 139514.801753\t time= 0.0118358\t cumTime= 0.171214\t edges= 17803\t schur= 1\t lambda= 0.001248\t levenbergIter= 1\n",
      "iteration= 14\t chi2= 136292.847923\t time= 0.011315\t cumTime= 0.182529\t edges= 17803\t schur= 1\t lambda= 0.000416\t levenbergIter= 1\n",
      "iteration= 15\t chi2= 134812.137117\t time= 0.0120208\t cumTime= 0.19455\t edges= 17803\t schur= 1\t lambda= 0.000277\t levenbergIter= 1\n",
      "iteration= 16\t chi2= 133948.755049\t time= 0.0114076\t cumTime= 0.205958\t edges= 17803\t schur= 1\t lambda= 0.000185\t levenbergIter= 1\n",
      "iteration= 17\t chi2= 133310.978421\t time= 0.0121569\t cumTime= 0.218115\t edges= 17803\t schur= 1\t lambda= 0.000062\t levenbergIter= 1\n",
      "iteration= 18\t chi2= 133177.529011\t time= 0.0113933\t cumTime= 0.229508\t edges= 17803\t schur= 1\t lambda= 0.000041\t levenbergIter= 1\n",
      "iteration= 19\t chi2= 132833.079797\t time= 0.0109265\t cumTime= 0.240435\t edges= 17803\t schur= 1\t lambda= 0.000014\t levenbergIter= 1\n"
     ]
    },
    {
     "name": "stdout",
     "output_type": "stream",
     "text": [
      "[IncrementalReconstructor] Bundle Adjustment, before_err: 112017.78, after_err: 40011.27\n",
      "[3.78139915 2.01472292 0.02951826]\n"
     ]
    },
    {
     "data": {
      "application/vnd.jupyter.widget-view+json": {
       "model_id": "d0fc7c87bc744f13baf9b98bb7187046",
       "version_major": 2,
       "version_minor": 0
      },
      "text/plain": [
       "Container(figure=Figure(box_center=[0.5, 0.5, 0.5], box_size=[1.0, 1.0, 1.0], camera=PerspectiveCamera(fov=45.…"
      ]
     },
     "metadata": {},
     "output_type": "display_data"
    }
   ],
   "source": [
    "# bundle adjustment\n",
    "pipeline.bundle_adjustment()\n",
    "\n",
    "# visualize optimization results\n",
    "ipv_prepare(ipv)\n",
    "\n",
    "Tcw_lst = []\n",
    "for i, view in enumerate(pipeline.reconstructed_views):\n",
    "    Tcw_lst.append(view.Tcw)\n",
    "points_lst = pipeline.reconstructed_map_points\n",
    "\n",
    "ipv_visualizer = iPV3DVisualizer()\n",
    "ipv_visualizer.add_trajectory(Tcw_lst)\n",
    "ipv_visualizer.add_point_cloud(points_lst, pt_size=8.0)\n",
    "ipv_visualizer.show()"
   ]
  }
 ],
 "metadata": {
  "kernelspec": {
   "display_name": "hloc",
   "language": "python",
   "name": "python3"
  },
  "language_info": {
   "codemirror_mode": {
    "name": "ipython",
    "version": 3
   },
   "file_extension": ".py",
   "mimetype": "text/x-python",
   "name": "python",
   "nbconvert_exporter": "python",
   "pygments_lexer": "ipython3",
   "version": "3.8.18"
  },
  "orig_nbformat": 4
 },
 "nbformat": 4,
 "nbformat_minor": 2
}
